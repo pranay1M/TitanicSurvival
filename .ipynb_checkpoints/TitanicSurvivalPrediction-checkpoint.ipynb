{
 "cells": [
  {
   "cell_type": "code",
   "execution_count": null,
   "id": "db3e4415-7e77-4cab-983c-6005edbe5a64",
   "metadata": {},
   "outputs": [],
   "source": [
    "'''\n",
    "Titanic Survival Prediction\n",
    "------------------------------------------------\n",
    "Goal:\n",
    "  - Predict passenger survival using a simple Logistic Regression model.\n",
    "  - Demonstrate a standard ML workflow: load → inspect → clean → EDA → encode → split → train → evaluate.\n",
    "\n",
    "Notes:\n",
    "  - Keep random_state fixed for reproducibility.\n",
    "  - Use simple, sensible imputations (median for Age, mode for Embarked).\n",
    "  - Encode categoricals with one-hot (drop_first=True to avoid dummy trap).\n",
    "'''"
   ]
  },
  {
   "cell_type": "code",
   "execution_count": null,
   "id": "0eb269d4-f77d-437e-b2aa-62b28fafe585",
   "metadata": {},
   "outputs": [],
   "source": [
    "# =============== 1) Imports ===============\n",
    "\n",
    "import numpy as np               # numerical helpers\n",
    "import pandas as pd              # data wrangling\n",
    "import matplotlib.pyplot as plt  # plotting\n",
    "import seaborn as sns            # better looking plots on top of matplotlib\n",
    "\n",
    "from sklearn.model_selection import train_test_split\n",
    "from sklearn.linear_model import LogisticRegression\n",
    "from sklearn.metrics import accuracy_score, confusion_matrix, classification_report\n",
    "\n",
    "# =============== 2) Load & Inspect ===============\n",
    "df = pd.read_csv('/users/pranaypakki/Tech/CSVfiles/titanic/train.csv')\n",
    "\n",
    "# Quick, standard checks to understand the data shape and types\n",
    "print(df.head())     # a peek at the first 5 rows\n",
    "print(\"-\" * 50)\n",
    "print(df.info())     # column types + non-null counts\n",
    "print(df.describe()) # summary stats for numeric columns"
   ]
  },
  {
   "cell_type": "code",
   "execution_count": null,
   "id": "97add199-269c-4d11-abca-e40f95f4337d",
   "metadata": {},
   "outputs": [],
   "source": [
    "# =============== 3) Clean Missing Data ===============\n",
    "# See where nulls are as this guides the cleaning strategy\n",
    "print(df.isnull().sum())"
   ]
  },
  {
   "cell_type": "code",
   "execution_count": null,
   "id": "d9250577-fba2-4f4b-9b3c-e302174d3e87",
   "metadata": {},
   "outputs": [],
   "source": [
    "# filling the missing values with corresponding mean values\n",
    "\n",
    "# Cabin Column removed because too many missing values\n",
    "df.drop(columns=['Cabin'], errors='ignore', inplace=True)\n",
    "\n",
    "# Missing age values filled with median\n",
    "df['Age'] = df['Age'].fillna(df['Age'].median())\n",
    "\n",
    "# Missing embarked values filled with mode\n",
    "df['Embarked'] = df['Embarked'].fillna(df['Embarked'].mode()[0])\n",
    "\n",
    "# check\n",
    "print(df.isnull().sum())"
   ]
  },
  {
   "cell_type": "code",
   "execution_count": null,
   "id": "2cfdb1ba-32d7-46ad-b3ae-1be92f1b248d",
   "metadata": {},
   "outputs": [],
   "source": [
    "# =============== 4) Exploratory Data Analysis (EDA) ===============\n",
    "# Class balance, how many survived vs not\n",
    "\n",
    "sns.countplot(x='Survived', data = df, hue='Survived')\n",
    "plt.title('Survived')\n",
    "plt.legend(labels = ['No','Yes'])"
   ]
  },
  {
   "cell_type": "code",
   "execution_count": null,
   "id": "4225a762-e7ed-4870-8327-254578eb8ab0",
   "metadata": {},
   "outputs": [],
   "source": [
    "# Survival by passenger class, higher class tends to have higher survival\n",
    "\n",
    "sns.countplot(x='Pclass', hue='Survived', data = df)\n",
    "plt.title('Survival by Class')\n",
    "plt.legend(labels = ['No','Yes'])"
   ]
  },
  {
   "cell_type": "code",
   "execution_count": null,
   "id": "a9198cdf-9c56-4e1a-94c9-dd8738d56afb",
   "metadata": {},
   "outputs": [],
   "source": [
    "# Survival by Gender\n",
    "sns.barplot(data = df, x='Survived', hue='Sex')\n",
    "plt.xlabel('Rate of Survival')\n",
    "plt.title('Survival Rate by Gender')"
   ]
  },
  {
   "cell_type": "code",
   "execution_count": null,
   "id": "60e5b8f6-e8c2-46cc-8bc3-fc06d84bb30b",
   "metadata": {},
   "outputs": [],
   "source": [
    "# Age distribution split by survival, younger passengers survived a bit better\n",
    "sns.histplot(data = df, x = 'Age', hue = 'Survived', kde = True, multiple = 'dodge')\n",
    "plt.legend(labels = ['No','Yes'])\n",
    "plt.title('Age Distribution by Survival')"
   ]
  },
  {
   "cell_type": "code",
   "execution_count": null,
   "id": "8e009efd-9f21-4835-a681-fffac18e1afb",
   "metadata": {},
   "outputs": [],
   "source": [
    "# =============== 5) Feature Engineering ===============\n",
    "# One-hot encode categoricals. drop_first=True removes one column per category\n",
    "# Can only be run once, reset kernel to run error free\n",
    "df = pd.get_dummies(df, columns = ['Sex','Embarked'], drop_first = True)\n",
    "\n",
    "# Drop columns that are identifiers or not useful for this model\n",
    "df.drop(columns=['PassengerId','Name','Ticket'], inplace=True)"
   ]
  },
  {
   "cell_type": "code",
   "execution_count": null,
   "id": "7665cade-66d6-418f-8958-49e2ccbd2ef2",
   "metadata": {},
   "outputs": [],
   "source": [
    "# Splitting features and target\n",
    "X = df.drop('Survived', axis = 1) # take all columns EXCEPT 'Survived'; all predictors\n",
    "y = df['Survived']                # target we want to predict"
   ]
  },
  {
   "cell_type": "code",
   "execution_count": null,
   "id": "faf04936-6cd5-4b24-b661-d8211635fc87",
   "metadata": {},
   "outputs": [],
   "source": [
    "# =============== 6) Train / Test Split ===============\n",
    "# Hold out 20% for unbiased evaluation; fix random_state for reproducibility\n",
    "X_train, X_test, y_train, y_test = train_test_split(X, y, test_size = 0.2, random_state = 42)\n",
    "print(\"X_train:\", X_train.shape, \"X_test:\", X_test.shape) # See the shapes to understand how many rows/columns there are"
   ]
  },
  {
   "cell_type": "code",
   "execution_count": null,
   "id": "8b37f0db-f680-45e2-9d25-b3fe3d23b941",
   "metadata": {},
   "outputs": [],
   "source": [
    "# =============== 7) Model: Logistic Regression ===============\n",
    "# max_iter set to 1000 ensure convergence on this small dataset\n",
    "model = LogisticRegression(max_iter = 1000)\n",
    "\n",
    "model.fit(X_train, y_train)\n",
    "\n",
    "# Generate predictions for the unseen test set\n",
    "y_pred = model.predict(X_test)\n",
    "\n",
    "# =============== 8) Evaluation ===============\n",
    "print(\"Accuracy:\", accuracy_score(y_test, y_pred))\n",
    "print(\"Confusion Matrix:\\n\", confusion_matrix(y_test, y_pred))\n",
    "print(\"Classification Report:\\n\", classification_report(y_test, y_pred))\n",
    "\n",
    "sns.heatmap(confusion_matrix(y_test, y_pred), annot=True, fmt='d', cbar=False)\n",
    "plt.title('Confusion Matrix (Test Set)')\n",
    "plt.xlabel('Predicted')\n",
    "plt.ylabel('Actual')\n",
    "plt.show()\n"
   ]
  },
  {
   "cell_type": "code",
   "execution_count": null,
   "id": "60394bd2-9e82-4477-8aba-bfd3c600326f",
   "metadata": {},
   "outputs": [],
   "source": [
    "# =============== 9) Conclusion ===============\n",
    "'''\n",
    "- Logistic Regression achieved an **accuracy of 81% on the test set.  \n",
    "- The confusion matrix shows the model balanced both survival and non-survival predictions.  \n",
    "- Key insights from EDA and model:  \n",
    "  - Gender: Women had significantly higher survival rates than men.  \n",
    "  - Class: Passengers in **1st class** had much better survival chances compared to 3rd class.  \n",
    "  - Age: Younger passengers had slightly better survival odds.\n",
    "'''"
   ]
  }
 ],
 "metadata": {
  "kernelspec": {
   "display_name": "Python 3 (ipykernel)",
   "language": "python",
   "name": "python3"
  },
  "language_info": {
   "codemirror_mode": {
    "name": "ipython",
    "version": 3
   },
   "file_extension": ".py",
   "mimetype": "text/x-python",
   "name": "python",
   "nbconvert_exporter": "python",
   "pygments_lexer": "ipython3",
   "version": "3.13.5"
  }
 },
 "nbformat": 4,
 "nbformat_minor": 5
}
